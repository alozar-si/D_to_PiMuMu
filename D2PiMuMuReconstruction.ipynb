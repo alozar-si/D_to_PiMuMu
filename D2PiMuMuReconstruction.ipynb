{
 "cells": [
  {
   "cell_type": "markdown",
   "metadata": {},
   "source": [
    "Used with release-04-02-09"
   ]
  },
  {
   "cell_type": "code",
   "execution_count": 15,
   "metadata": {},
   "outputs": [],
   "source": [
    "import os\n",
    "import basf2\n",
    "import modularAnalysis as ma\n",
    "from variables import variables"
   ]
  },
  {
   "cell_type": "code",
   "execution_count": 16,
   "metadata": {},
   "outputs": [],
   "source": [
    "main = basf2.create_path()"
   ]
  },
  {
   "cell_type": "code",
   "execution_count": 17,
   "metadata": {},
   "outputs": [],
   "source": [
    "sample = \"charged\"\n",
    "jobNo = 1\n",
    "trackSelection = \"user\"\n",
    "jobFileSize = 1"
   ]
  },
  {
   "cell_type": "code",
   "execution_count": 18,
   "metadata": {},
   "outputs": [
    {
     "name": "stdout",
     "output_type": "stream",
     "text": [
      "\n",
      "Input file list:\n",
      " ['/ghi/fs01/belle2/bdata/MC/MC13a_cdst/generic/charged/charged_cdst_eph3_1.root'] \n",
      "\n"
     ]
    }
   ],
   "source": [
    "######################################################\n",
    "#\n",
    "# 4. Reading in data files\n",
    "#\n",
    "# #####################################################\n",
    "\n",
    "mc_path = \"/ghi/fs01/belle2/bdata/MC/MC13a_cdst/generic/\"\n",
    "filler = \"_cdst_eph3_\" \n",
    "\n",
    "if sample == 'signal':\n",
    "    ma.inputMdstList('default', ['/group/belle2/tutorial/2019_June/Bu2JpsiK/mdst_Bu2JpsiK_*.root'], path=main)\n",
    "\n",
    "elif sample in ['charged', 'mixed', 'uubar', 'ddbar', 'ssbar', 'ccbar']:\n",
    "    file_folder = mc_path + sample + \"/\"\n",
    "    input_file_list =  [file_folder + sample + filler + \"%d.root\" %i for i in range(jobNo*jobFileSize, (jobNo+1)*jobFileSize)]\n",
    "    print(\"\\nInput file list:\\n\", input_file_list, \"\\n\")\n",
    "elif sample == 'proc10':\n",
    "    ma.inputMdstList('default', \n",
    "                     ['/group/belle2/dataprod/Data/OfficialReco/proc10/e0007/4S/GoodRuns/r*/skim/hlt_hadron/mdst/sub00/*.root',\n",
    "                      '/group/belle2/dataprod/Data/OfficialReco/proc10/e0008/4S/GoodRuns/r*/skim/hlt_hadron/mdst/sub00/*.root'],\n",
    "                     path=main)\n",
    "else:\n",
    "    print('[ERROR] The only valid sample names are charged, mixed, uubar, ddbar, ssbar, ccbar. Needs fixing: signal and proc10!')\n",
    "    \n",
    "ma.inputMdstList(\"default\", input_file_list, path=main)\n"
   ]
  },
  {
   "cell_type": "code",
   "execution_count": 19,
   "metadata": {},
   "outputs": [
    {
     "data": {
      "text/plain": [
       "True"
      ]
     },
     "execution_count": 19,
     "metadata": {},
     "output_type": "execute_result"
    }
   ],
   "source": [
    "from variables import variables as vm\n",
    "# Aliases\n",
    "vm.addAlias(\"eID\", \"electronID\")\n",
    "vm.addAlias(\"piID\", \"pionID\")\n",
    "vm.addAlias('R_Kpi', 'pidPairProbabilityExpert(321, 211, ARICH,TOP,CDC)')  # kaon/pion w/o arich\n",
    "vm.addAlias(\"muID\", \"muonID\")\n",
    "vm.addAlias(\"D_p_cms\", \"useCMSFrame(p)\")"
   ]
  },
  {
   "cell_type": "code",
   "execution_count": 20,
   "metadata": {},
   "outputs": [],
   "source": [
    "######################################################\n",
    "#\n",
    "# 6. Creating and filling final state ParticleLists\n",
    "#\n",
    "# #####################################################\n",
    "from stdCharged import stdMu, stdPi\n",
    "\n",
    "# basic quality cut strings\n",
    "trackQuality = 'thetaInCDCAcceptance'\n",
    "ipCut = 'dr < 0.5 and abs(dz) < 2.0'\n",
    "muPidCut  = 'muID > 0.9'\n",
    "piPidCut = 'R_Kpi < 0.9'\n",
    "userCut = trackQuality + ' and ' + ipCut\n",
    "\n",
    "# create and fill final state ParticleLists\n",
    "if trackSelection == 'MCmatch':\n",
    "    if sample == 'proc10':\n",
    "        print('You can not select tracks based on MC information when running over real data!')\n",
    "elif trackSelection == 'loose':\n",
    "    stdMu('loose', path=main)\n",
    "    stdPi('loose', path=main)\n",
    "elif trackSelection == 'good':\n",
    "    stdMu('good', path=main)\n",
    "    stdPi('good', path=main)\n",
    "elif trackSelection == 'user':\n",
    "    ma.fillParticleList('mu+:user', userCut + ' and ' + muPidCut, path=main)\n",
    "    ma.fillParticleList('pi+:user', userCut + ' and ' + piPidCut, path=main)\n",
    "else:\n",
    "    print('For the track selection the only valid options so far are MCmatch, loose, good, user!')"
   ]
  },
  {
   "cell_type": "code",
   "execution_count": 21,
   "metadata": {},
   "outputs": [],
   "source": [
    "######################################################\n",
    "#\n",
    "# 7. Reconstructing phi from mumu-pair\n",
    "#\n",
    "# #####################################################\n",
    "phi_mass_window = '0.99 < M < 1.05'\n",
    "phi_cuts = phi_mass_window #+ ' and ' + jpsipstarwindow\n",
    "\n",
    "#ma.reconstructDecay('phi:mumu -> mu+:'+trackSelection + ' mu-:'+trackSelection, cut=phi_cuts, path=main)\n"
   ]
  },
  {
   "cell_type": "code",
   "execution_count": 22,
   "metadata": {},
   "outputs": [],
   "source": [
    "######################################################\n",
    "#\n",
    "# 8. Reconstructing D+ from pi+ mu+ mu+\n",
    "#\n",
    "# #####################################################\n",
    "dmasswindow = '1.70 < M < 2.1' #mass = 1.8696 GeV\n",
    "number_of_tracks = \"nTracks > 2\"\n",
    "D_cms_p = \"D_p_cms > 2.5\"\n",
    "d_cuts = dmasswindow + ' and ' + number_of_tracks + ' and ' + D_cms_p #+ ' and ' + jpsipstarwindow\n",
    "\n",
    "ma.reconstructDecay('D+:mumu -> mu+:'+trackSelection + ' mu-:'+trackSelection + ' pi+:' + trackSelection, cut=d_cuts, path=main)\n"
   ]
  },
  {
   "cell_type": "code",
   "execution_count": 23,
   "metadata": {},
   "outputs": [],
   "source": [
    "######################################################\n",
    "#\n",
    "# 9. Fitting the B+ decay vertex\n",
    "#\n",
    "# #####################################################\n",
    "from vertex import vertexKFit, vertexTree\n",
    "vertexKFit(\"D+:mumu\", 0.000, path=main)"
   ]
  },
  {
   "cell_type": "code",
   "execution_count": 24,
   "metadata": {},
   "outputs": [],
   "source": [
    "######################################################\n",
    "#\n",
    "# 12. Performing MC matching (MC truth association)\n",
    "#\n",
    "# #####################################################\n",
    "\n",
    "if(sample != 'proc11'):\n",
    "    #ma.matchMCTruth(\"phi:mumu\", path=main)\n",
    "    ma.matchMCTruth(\"D+:mumu\", path=main)"
   ]
  },
  {
   "cell_type": "code",
   "execution_count": 25,
   "metadata": {},
   "outputs": [],
   "source": [
    "######################################################\n",
    "#\n",
    "# 13. Creating list of variables for ntuple\n",
    "#\n",
    "# #####################################################\n",
    "import variables.collections as vc\n",
    "import variables.utils as vu\n",
    "\n",
    "\n",
    "std_vars = vc.mc_truth + vc.kinematics\n",
    "\n",
    "# Variables for final states (electrons, positrons, pions)\n",
    "fs_vars = vc.pid + std_vars #vc.track + vc.track_hits\n",
    "\n",
    "cmskinematics = vu.create_aliases(\n",
    "    vc.kinematics, \"useCMSFrame({variable})\", \"CMS\")\n",
    "\n",
    "if(sample != 'proc11'):\n",
    "    std_vars += vc.mc_kinematics + vc.mc_truth\n",
    "\n",
    "d_vars = []\n",
    "\n",
    "d_vars += std_vars\n",
    "d_vars += vc.inv_mass\n",
    "d_vars += cmskinematics\n",
    "d_vars += [\"pValue\"]\n",
    "\n",
    "# Variables for final states (electrons, positrons, pions)\n",
    "fs_vars = vc.pid + [\"R_Kpi\"] + std_vars + vc.inv_mass#vc.track + vc.track_hits\n",
    "\n",
    "d_vars += vu.create_aliases_for_selected(\n",
    "\n",
    "    fs_vars,\n",
    "\n",
    "    \"D+:mumu -> ^mu+:\"+trackSelection+\" ^mu-:\"+trackSelection + \"^pi+:\" + trackSelection,\n",
    "\n",
    "    prefix=[\"mu_p\", \"mu_m\", \"pi_p\"],\n",
    "\n",
    ")"
   ]
  },
  {
   "cell_type": "code",
   "execution_count": 26,
   "metadata": {},
   "outputs": [
    {
     "data": {
      "text/plain": [
       "'phi_vars = []\\nphi_vars += std_vars\\nphi_vars += vc.inv_mass\\n\\nphi_vars += vu.create_aliases_for_selected(\\n\\n    fs_vars,\\n\\n    \"phi:mumu -> ^mu+:\"+trackSelection+\" ^mu-:\"+trackSelection,\\n\\n    prefix=[\"mup\", \"mum\"],\\n\\n)'"
      ]
     },
     "execution_count": 26,
     "metadata": {},
     "output_type": "execute_result"
    }
   ],
   "source": [
    "\"\"\"phi_vars = []\n",
    "phi_vars += std_vars\n",
    "phi_vars += vc.inv_mass\n",
    "\n",
    "phi_vars += vu.create_aliases_for_selected(\n",
    "\n",
    "    fs_vars,\n",
    "\n",
    "    \"phi:mumu -> ^mu+:\"+trackSelection+\" ^mu-:\"+trackSelection,\n",
    "\n",
    "    prefix=[\"mup\", \"mum\"],\n",
    "\n",
    ")\"\"\""
   ]
  },
  {
   "cell_type": "code",
   "execution_count": 27,
   "metadata": {},
   "outputs": [
    {
     "data": {
      "text/plain": [
       "<pybasf2.Module at 0x7f6290a3db88>"
      ]
     },
     "execution_count": 27,
     "metadata": {},
     "output_type": "execute_result"
    }
   ],
   "source": [
    "######################################################\n",
    "#\n",
    "# 14. Writing ntuple to output file\n",
    "#\n",
    "# #####################################################\n",
    "outDir = 'recodata'\n",
    "if not os.path.exists(outDir):\n",
    "    os.makedirs(outDir)\n",
    "\n",
    "filenameEnd = '_'.join([sample,str(jobNo),str(jobFileSize),trackSelection]) + '.root'\n",
    "\n",
    "outputFileName = outDir + '/d2pimumu_reco_' + filenameEnd\n",
    "\n",
    "#main.add_module('VariablesToNtuple', particleList='phi:mumu', fileName=outputFileName, treeName='phi', variables=phi_vars)\n",
    "main.add_module('VariablesToNtuple', particleList='D+:mumu', fileName=outputFileName, treeName='D', variables=d_vars)\n",
    "\n"
   ]
  },
  {
   "cell_type": "code",
   "execution_count": null,
   "metadata": {},
   "outputs": [],
   "source": [
    "ma.summaryOfLists(['D+:mumu'], path=main)"
   ]
  },
  {
   "cell_type": "code",
   "execution_count": 28,
   "metadata": {},
   "outputs": [
    {
     "data": {
      "application/vnd.jupyter.widget-view+json": {
       "model_id": "bba6d5eb5dc74e3cbcd0679b1ad00720",
       "version_major": 2,
       "version_minor": 0
      },
      "text/plain": [
       "VBox(children=(FloatProgress(value=0.0, layout=Layout(height='40px', width='100%'), max=1.0), Label(value=''))…"
      ]
     },
     "metadata": {},
     "output_type": "display_data"
    },
    {
     "data": {
      "application/vnd.jupyter.widget-view+json": {
       "model_id": "3c512aade242420b91cebfc768796b71",
       "version_major": 2,
       "version_minor": 0
      },
      "text/plain": [
       "VBox(children=(HBox(children=(HTML(value='<a onclick=\"$(\\'.log-line-debug\\').hide();\\n                        …"
      ]
     },
     "metadata": {},
     "output_type": "display_data"
    },
    {
     "data": {
      "text/plain": [
       "<hep_ipython_tools.ipython_handler_basf2.calculation.Basf2Calculation at 0x7f6290a45048>"
      ]
     },
     "execution_count": 28,
     "metadata": {},
     "output_type": "execute_result"
    }
   ],
   "source": [
    "basf2.process(main)"
   ]
  },
  {
   "cell_type": "code",
   "execution_count": 29,
   "metadata": {},
   "outputs": [
    {
     "name": "stdout",
     "output_type": "stream",
     "text": [
      "\n"
     ]
    }
   ],
   "source": [
    "print(basf2.statistics)"
   ]
  },
  {
   "cell_type": "code",
   "execution_count": null,
   "metadata": {},
   "outputs": [],
   "source": []
  }
 ],
 "metadata": {
  "kernelspec": {
   "display_name": "Python 3 (Belle2)",
   "language": "python",
   "name": "python3"
  },
  "language_info": {
   "codemirror_mode": {
    "name": "ipython",
    "version": 3
   },
   "file_extension": ".py",
   "mimetype": "text/x-python",
   "name": "python",
   "nbconvert_exporter": "python",
   "pygments_lexer": "ipython3",
   "version": "3.6.9"
  }
 },
 "nbformat": 4,
 "nbformat_minor": 2
}
